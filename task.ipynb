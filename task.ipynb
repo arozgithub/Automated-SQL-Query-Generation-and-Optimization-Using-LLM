{
 "cells": [
  {
   "cell_type": "markdown",
   "metadata": {},
   "source": [
    "Libraries setup"
   ]
  },
  {
   "cell_type": "code",
   "execution_count": 3,
   "metadata": {},
   "outputs": [
    {
     "name": "stdout",
     "output_type": "stream",
     "text": [
      "Note: you may need to restart the kernel to use updated packages.\n"
     ]
    },
    {
     "name": "stderr",
     "output_type": "stream",
     "text": [
      "  Retrying (Retry(total=4, connect=None, read=None, redirect=None)) after connection broken by 'ConnectTimeoutError(<pip._vendor.requests.packages.urllib3.connection.VerifiedHTTPSConnection object at 0x045F13B0>, 'Connection to pypi.python.org timed out. (connect timeout=15)')': /simple/install/\n",
      "  Could not find a version that satisfies the requirement install (from versions: )\n",
      "No matching distribution found for install\n"
     ]
    }
   ],
   "source": [
    "%pip install -q pip install openai prettytable python-dotenv pdfplumber"
   ]
  },
  {
   "cell_type": "markdown",
   "metadata": {},
   "source": [
    "Api setup OpenAi"
   ]
  },
  {
   "cell_type": "code",
   "execution_count": 2,
   "metadata": {},
   "outputs": [],
   "source": [
    "import openai\n",
    "with open (\"api.txt\") as f:\n",
    "    openai.api_key = f.read().strip()"
   ]
  },
  {
   "cell_type": "code",
   "execution_count": 3,
   "metadata": {},
   "outputs": [
    {
     "data": {
      "text/plain": [
       "SyncPage[Model](data=[Model(id='whisper-1', created=1677532384, object='model', owned_by='openai-internal'), Model(id='dall-e-2', created=1698798177, object='model', owned_by='system'), Model(id='gpt-3.5-turbo-16k', created=1683758102, object='model', owned_by='openai-internal'), Model(id='tts-1-hd-1106', created=1699053533, object='model', owned_by='system'), Model(id='tts-1-hd', created=1699046015, object='model', owned_by='system'), Model(id='gpt-3.5-turbo', created=1677610602, object='model', owned_by='openai'), Model(id='gpt-4-turbo-2024-04-09', created=1712601677, object='model', owned_by='system'), Model(id='gpt-4-0125-preview', created=1706037612, object='model', owned_by='system'), Model(id='gpt-4-turbo-preview', created=1706037777, object='model', owned_by='system'), Model(id='gpt-4-turbo', created=1712361441, object='model', owned_by='system'), Model(id='gpt-4o', created=1715367049, object='model', owned_by='system'), Model(id='gpt-3.5-turbo-instruct-0914', created=1694122472, object='model', owned_by='system'), Model(id='gpt-3.5-turbo-instruct', created=1692901427, object='model', owned_by='system'), Model(id='text-embedding-3-small', created=1705948997, object='model', owned_by='system'), Model(id='gpt-4', created=1687882411, object='model', owned_by='openai'), Model(id='tts-1', created=1681940951, object='model', owned_by='openai-internal'), Model(id='text-embedding-3-large', created=1705953180, object='model', owned_by='system'), Model(id='gpt-4-0613', created=1686588896, object='model', owned_by='openai'), Model(id='gpt-4-1106-preview', created=1698957206, object='model', owned_by='system'), Model(id='babbage-002', created=1692634615, object='model', owned_by='system'), Model(id='gpt-3.5-turbo-0125', created=1706048358, object='model', owned_by='system'), Model(id='tts-1-1106', created=1699053241, object='model', owned_by='system'), Model(id='dall-e-3', created=1698785189, object='model', owned_by='system'), Model(id='text-embedding-ada-002', created=1671217299, object='model', owned_by='openai-internal'), Model(id='davinci-002', created=1692634301, object='model', owned_by='system'), Model(id='gpt-3.5-turbo-1106', created=1698959748, object='model', owned_by='system'), Model(id='gpt-4o-2024-05-13', created=1715368132, object='model', owned_by='system')], object='list')"
      ]
     },
     "execution_count": 3,
     "metadata": {},
     "output_type": "execute_result"
    }
   ],
   "source": [
    "openai.models.list()"
   ]
  },
  {
   "cell_type": "code",
   "execution_count": 6,
   "metadata": {},
   "outputs": [
    {
     "name": "stdout",
     "output_type": "stream",
     "text": [
      "Writing input.txt\n"
     ]
    }
   ],
   "source": [
    "%%writefile input.txt\n",
    "Show me the top 5 highest-paid employees. \n",
    "Who is the youngest employee in the Engineering department? \n",
    "Find all employees who were hired in the year 2019. \n",
    "Show the names of employees whose salary is above the average salary in their department. \n",
    "Display the names of employees whose first and last names start with the same letter. \n",
    "Find the employee with the highest salary in each department   "
   ]
  },
  {
   "cell_type": "markdown",
   "metadata": {},
   "source": [
    "Table setup using sqlite3 and pdfplumber"
   ]
  },
  {
   "cell_type": "code",
   "execution_count": 1,
   "metadata": {},
   "outputs": [
    {
     "name": "stdout",
     "output_type": "stream",
     "text": [
      "[['EmployeeID', 'FirstName', 'LastName', 'Age', 'Department', 'Position', 'Salary', 'HireDate', 'ManagerID'], ['1', 'John', 'Smith', '28', 'Sales', 'Manager', '85000', '01/03/2015', '21'], ['2', 'Jane', 'Doe', '34', 'Engineering', 'Developer', '95000', '23/05/2016', '6'], ['3', 'Emily', 'Johnson', '29', 'HR', 'Generalist', '70000', '14/08/2017', '7'], ['4', 'Michael', 'Brown', '45', 'Marketing', 'Coordinator', '80000', '11/11/2014', '20'], ['5', 'Sarah', 'Williams', '31', 'Sales', 'Consultant', '85000', '25/07/2013', '1'], ['6', 'David', 'Jones', '38', 'Engineering', 'Manager', '95000', '17/09/2019', '1'], ['7', 'Laura', 'Garcia', '26', 'HR', 'Manager', '70000', '02/12/2018', '21'], ['8', 'James', 'Miller', '39', 'Marketing', 'SEO', '80000', '10/01/2020', '20'], ['9', 'Anna', 'Davis', '27', 'Sales', 'Associate', '85000', '01/03/2015', '1'], ['10', 'Robert', 'Rodriguez', '41', 'Engineering', 'QA', '95000', '23/05/2016', '6'], ['11', 'Linda', 'Martinez', '33', 'HR', 'Coordinator', '70000', '14/08/2017', '7'], ['12', 'William', 'Hernandez', '30', 'Marketing', 'Analyst', '80000', '11/11/2014', '20'], ['13', 'Elizabeth', 'Lopez', '36', 'Sales', 'Analyst', '85000', '25/07/2013', '1'], ['14', 'Richard', 'Gonzalez', '42', 'Engineering', 'DevOps', '95000', '17/09/2019', '6'], ['15', 'Jessica', 'Wilson', '32', 'HR', 'Analyst', '70000', '02/12/2018', '7'], ['16', 'Joseph', 'Anderson', '37', 'Marketing', 'Associate', '80000', '10/01/2020', '20'], ['17', 'Karen', 'Thomas', '29', 'Sales', 'Coordinator', '85000', '01/03/2015', '1'], ['18', 'Thomas', 'Taylor', '35', 'Engineering', 'Technical support', '95000', '23/05/2016', '6'], ['19', 'Nancy', 'Moore', '40', 'HR', 'Recruiter', '70000', '14/08/2017', '7'], ['20', 'Charles', 'Jackson', '43', 'Marketing', 'Manager', '80000', '11/11/2014', '21'], ['21', 'Alex', 'Johnson', '50', 'Management', 'CEO', '200000', '01/01/2010', '']]\n"
     ]
    }
   ],
   "source": [
    "import pdfplumber\n",
    "\n",
    "def extract_table_from_pdf(file_path):\n",
    "    with pdfplumber.open(file_path) as pdf:\n",
    "        last_page = pdf.pages[-1]  # the table is on the last page\n",
    "        table = last_page.extract_table()\n",
    "        return table\n",
    "\n",
    "file_path = '2024-06-20-Jr-AI-task-SQL.pdf'\n",
    "table_data = extract_table_from_pdf(file_path)\n",
    "print(table_data)\n"
   ]
  },
  {
   "cell_type": "code",
   "execution_count": 2,
   "metadata": {},
   "outputs": [
    {
     "name": "stdout",
     "output_type": "stream",
     "text": [
      "(1, 'John', 'Smith', 28, 'Sales', 'Manager', 85000, '01/03/2015', 21)\n",
      "(2, 'Jane', 'Doe', 34, 'Engineering', 'Developer', 95000, '23/05/2016', 6)\n",
      "(3, 'Emily', 'Johnson', 29, 'HR', 'Generalist', 70000, '14/08/2017', 7)\n",
      "(4, 'Michael', 'Brown', 45, 'Marketing', 'Coordinator', 80000, '11/11/2014', 20)\n",
      "(5, 'Sarah', 'Williams', 31, 'Sales', 'Consultant', 85000, '25/07/2013', 1)\n",
      "(6, 'David', 'Jones', 38, 'Engineering', 'Manager', 95000, '17/09/2019', 1)\n",
      "(7, 'Laura', 'Garcia', 26, 'HR', 'Manager', 70000, '02/12/2018', 21)\n",
      "(8, 'James', 'Miller', 39, 'Marketing', 'SEO', 80000, '10/01/2020', 20)\n",
      "(9, 'Anna', 'Davis', 27, 'Sales', 'Associate', 85000, '01/03/2015', 1)\n",
      "(10, 'Robert', 'Rodriguez', 41, 'Engineering', 'QA', 95000, '23/05/2016', 6)\n",
      "(11, 'Linda', 'Martinez', 33, 'HR', 'Coordinator', 70000, '14/08/2017', 7)\n",
      "(12, 'William', 'Hernandez', 30, 'Marketing', 'Analyst', 80000, '11/11/2014', 20)\n",
      "(13, 'Elizabeth', 'Lopez', 36, 'Sales', 'Analyst', 85000, '25/07/2013', 1)\n",
      "(14, 'Richard', 'Gonzalez', 42, 'Engineering', 'DevOps', 95000, '17/09/2019', 6)\n",
      "(15, 'Jessica', 'Wilson', 32, 'HR', 'Analyst', 70000, '02/12/2018', 7)\n",
      "(16, 'Joseph', 'Anderson', 37, 'Marketing', 'Associate', 80000, '10/01/2020', 20)\n",
      "(17, 'Karen', 'Thomas', 29, 'Sales', 'Coordinator', 85000, '01/03/2015', 1)\n",
      "(18, 'Thomas', 'Taylor', 35, 'Engineering', 'Technical support', 95000, '23/05/2016', 6)\n",
      "(19, 'Nancy', 'Moore', 40, 'HR', 'Recruiter', 70000, '14/08/2017', 7)\n",
      "(20, 'Charles', 'Jackson', 43, 'Marketing', 'Manager', 80000, '11/11/2014', 21)\n",
      "(21, 'Alex', 'Johnson', 50, 'Management', 'CEO', 200000, '01/01/2010', '')\n"
     ]
    }
   ],
   "source": [
    "import sqlite3\n",
    "\n",
    "def create_and_populate_db(data):\n",
    "    # Connect to SQLite database\n",
    "    conn = sqlite3.connect('employees.db')\n",
    "    cursor = conn.cursor()\n",
    "\n",
    "    # Create table\n",
    "    cursor.execute('''\n",
    "    CREATE TABLE IF NOT EXISTS employees (\n",
    "        EmployeeID INTEGER PRIMARY KEY,\n",
    "        FirstName TEXT,\n",
    "        LastName TEXT,\n",
    "        Age INTEGER,\n",
    "        Department TEXT,\n",
    "        Position TEXT,\n",
    "        Salary INTEGER,\n",
    "        HireDate TEXT,\n",
    "        ManagerID INTEGER\n",
    "    )\n",
    "    ''')\n",
    "\n",
    "    # Prepare data (skip the header row of the table)\n",
    "    prepared_data = [tuple(row) for row in data[1:]]\n",
    "\n",
    "    # Insert data into table\n",
    "    cursor.executemany('INSERT INTO employees VALUES (?, ?, ?, ?, ?, ?, ?, ?, ?)', prepared_data)\n",
    "    conn.commit()\n",
    "    conn.close()\n",
    "\n",
    "# Assuming the first row of table_data contains headers\n",
    "create_and_populate_db(table_data)\n",
    "# show table\n",
    "conn = sqlite3.connect('employees.db')\n",
    "cursor = conn.cursor()\n",
    "cursor.execute('SELECT * FROM employees')\n",
    "rows = cursor.fetchall()\n",
    "for row in rows:\n",
    "    print(row)"
   ]
  },
  {
   "cell_type": "code",
   "execution_count": 10,
   "metadata": {},
   "outputs": [
    {
     "name": "stdout",
     "output_type": "stream",
     "text": [
      "Generated SQL Query: SELECT FirstName, LastName, Salary \n",
      "FROM employees \n",
      "ORDER BY Salary DESC \n",
      "LIMIT 5;\n",
      "Query Results: [('Alex', 'Johnson', 200000), ('Jane', 'Doe', 95000), ('David', 'Jones', 95000), ('Robert', 'Rodriguez', 95000), ('Richard', 'Gonzalez', 95000)]\n",
      "Optimization Suggestion: There is not much room for optimization in this query as it is already selecting only the necessary columns and limiting the number of results. However, here are a few suggestions that could potentially improve performance:\n",
      "\n",
      "1. Add an index on the Salary column: This can improve the sorting process, especially if the table is large and the Salary column is frequently used for sorting.\n",
      "\n",
      "2. Use a WHERE clause: If the query needs to retrieve data only for a specific group of employees (e.g. based on job title or department), adding a WHERE clause can help reduce the number of rows that need to be sorted.\n",
      "\n",
      "3. Use a FETCH clause instead of LIMIT: If using a database system that supports the FETCH clause, it can be a more efficient way\n",
      "Generated SQL Query: SELECT FirstName, LastName FROM employees WHERE Department = 'Engineering' ORDER BY Age ASC LIMIT 1;\n",
      "Query Results: [('Jane', 'Doe')]\n",
      "Optimization Suggestion: SELECT FirstName, LastName \n",
      "FROM employees \n",
      "WHERE Department = 'Engineering' \n",
      "ORDER BY Age ASC \n",
      "LIMIT 1;\n",
      "Generated SQL Query: SELECT * FROM employees WHERE HireDate LIKE '%2019%';\n",
      "Query Results: [(6, 'David', 'Jones', 38, 'Engineering', 'Manager', 95000, '17/09/2019', 1), (14, 'Richard', 'Gonzalez', 42, 'Engineering', 'DevOps', 95000, '17/09/2019', 6)]\n",
      "Optimization Suggestion: SELECT * FROM employees WHERE HireDate >= '2019-01-01' AND HireDate < '2020-01-01';\n",
      "Generated SQL Query: SELECT FirstName, LastName \n",
      "FROM employees \n",
      "WHERE Salary > (SELECT AVG(Salary) FROM employees GROUP BY Department)\n",
      "Query Results: [('Alex', 'Johnson')]\n",
      "Optimization Suggestion: SELECT FirstName, LastName \n",
      "FROM employees \n",
      "INNER JOIN (SELECT Department, AVG(Salary) AS avg_salary FROM employees GROUP BY Department) AS dept_avg \n",
      "ON employees.Department = dept_avg.Department \n",
      "WHERE Salary > avg_salary\n",
      "Generated SQL Query: SELECT FirstName, LastName \n",
      "FROM employees \n",
      "WHERE SUBSTR(FirstName, 1, 1) = SUBSTR(LastName, 1, 1)\n",
      "Query Results: [('Robert', 'Rodriguez'), ('Thomas', 'Taylor')]\n",
      "Optimization Suggestion: SELECT FirstName, LastName \n",
      "FROM employees \n",
      "WHERE FirstName LIKE CONCAT(LEFT(LastName, 1),'%')\n",
      "Generated SQL Query: SELECT Department, MAX(Salary) AS \"Highest Salary\"\n",
      "FROM employees\n",
      "GROUP BY Department;\n",
      "Query Results: [('Engineering', 95000), ('HR', 70000), ('Management', 200000), ('Marketing', 80000), ('Sales', 85000)]\n",
      "Optimization Suggestion: There is not enough information provided to optimize this query. It appears to be a simple aggregation query with no filtering or joins, so there may not be many optimization opportunities. Add more context or specifics to the query for a more meaningful optimization.\n"
     ]
    }
   ],
   "source": [
    "from openai import OpenAI\n",
    "\n",
    "with open(\"api.txt\") as f:\n",
    "    api_key = f.read().strip()\n",
    "client = OpenAI(api_key=api_key)\n",
    "    \n",
    "def read_questions(file_path):\n",
    "    with open(file_path, 'r') as file:\n",
    "        questions = file.readlines()\n",
    "    return questions\n",
    "\n",
    "def generate_sql(question):\n",
    "    response = client.completions.create(\n",
    "        model=\"gpt-3.5-turbo-instruct\",  \n",
    "        prompt=\"Given the following SQL tables, your job is to write queries given a user’s request.\\n    \\n    CREATE TABLE IF NOT EXISTS employees (\\r\\n        EmployeeID INTEGER PRIMARY KEY,\\r\\n        FirstName TEXT,\\r\\n        LastName TEXT,\\r\\n        Age INTEGER,\\r\\n        Department TEXT,\\r\\n        Position TEXT,\\r\\n        Salary INTEGER,\\r\\n        HireDate TEXT,\\r\\n        ManagerID INTEGER\\r\\n    )\\n\\n\" + question,\n",
    "        temperature=0,\n",
    "        max_tokens=256,\n",
    "        top_p=1,\n",
    "        frequency_penalty=0,\n",
    "        presence_penalty=0\n",
    "    )\n",
    "    sql_query = response.choices[0].text.strip()\n",
    "    return sql_query\n",
    "\n",
    "def execute_sql(sql_query):\n",
    "    cursor.execute(sql_query)\n",
    "    result = cursor.fetchall()\n",
    "    return result\n",
    "\n",
    "def optimize_sql(sql_query):\n",
    "    response = client.completions.create(\n",
    "        model=\"gpt-3.5-turbo-instruct\",\n",
    "        prompt=f\"Optimize this SQL query: {sql_query}\",\n",
    "        max_tokens=256,\n",
    "        top_p=1,\n",
    "        frequency_penalty=0,\n",
    "        presence_penalty=0\n",
    "    )\n",
    "    return response.choices[0].text.strip()\n",
    "\n",
    "def main():\n",
    "    questions = read_questions(\"input.txt\")  # Path to your input file\n",
    "    for question in questions:\n",
    "        sql_query = generate_sql(question)\n",
    "        optimization = optimize_sql(sql_query)\n",
    "        query_result = execute_sql(sql_query)\n",
    "        print(\"\\n====\\n Question:\", question)\n",
    "        print(\"Generated SQL Query:\", sql_query)\n",
    "        print(\"Query Results:\", query_result)\n",
    "        print(\"Optimization Suggestion:\", optimization)\n",
    "\n",
    "if __name__ == \"__main__\":\n",
    "    main()\n",
    "    conn.close()\n"
   ]
  }
 ],
 "metadata": {
  "kernelspec": {
   "display_name": "base",
   "language": "python",
   "name": "python3"
  },
  "language_info": {
   "codemirror_mode": {
    "name": "ipython",
    "version": 3
   },
   "file_extension": ".py",
   "mimetype": "text/x-python",
   "name": "python",
   "nbconvert_exporter": "python",
   "pygments_lexer": "ipython3",
   "version": "3.6.2"
  }
 },
 "nbformat": 4,
 "nbformat_minor": 2
}
